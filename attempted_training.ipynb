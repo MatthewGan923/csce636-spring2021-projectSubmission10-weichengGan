{
  "nbformat": 4,
  "nbformat_minor": 0,
  "metadata": {
    "accelerator": "GPU",
    "colab": {
      "name": "resnet50_blstm.ipynb",
      "provenance": [],
      "collapsed_sections": []
    },
    "kernelspec": {
      "display_name": "Python 3",
      "name": "python3"
    },
    "language_info": {
      "name": "python"
    }
  },
  "cells": [
    {
      "cell_type": "code",
      "metadata": {
        "colab": {
          "base_uri": "https://localhost:8080/"
        },
        "id": "NL2S2T7TAknJ",
        "outputId": "2bae1b29-9e39-4ccf-95e1-28f2ee5b5822"
      },
      "source": [
        "!pip install patool"
      ],
      "execution_count": null,
      "outputs": [
        {
          "output_type": "stream",
          "text": [
            "Collecting patool\n",
            "\u001b[?25l  Downloading https://files.pythonhosted.org/packages/43/94/52243ddff508780dd2d8110964320ab4851134a55ab102285b46e740f76a/patool-1.12-py2.py3-none-any.whl (77kB)\n",
            "\r\u001b[K     |████▎                           | 10kB 22.4MB/s eta 0:00:01\r\u001b[K     |████████▌                       | 20kB 15.7MB/s eta 0:00:01\r\u001b[K     |████████████▊                   | 30kB 13.6MB/s eta 0:00:01\r\u001b[K     |█████████████████               | 40kB 13.0MB/s eta 0:00:01\r\u001b[K     |█████████████████████▏          | 51kB 8.4MB/s eta 0:00:01\r\u001b[K     |█████████████████████████▍      | 61kB 7.7MB/s eta 0:00:01\r\u001b[K     |█████████████████████████████▋  | 71kB 8.8MB/s eta 0:00:01\r\u001b[K     |████████████████████████████████| 81kB 5.4MB/s \n",
            "\u001b[?25hInstalling collected packages: patool\n",
            "Successfully installed patool-1.12\n"
          ],
          "name": "stdout"
        }
      ]
    },
    {
      "cell_type": "code",
      "metadata": {
        "id": "fkP_9cjERIZ7"
      },
      "source": [
        "from tensorflow.keras.preprocessing.image import ImageDataGenerator\n",
        "from tensorflow.keras.layers import AveragePooling2D\n",
        "from tensorflow.keras.applications import ResNet50, VGG16\n",
        "from tensorflow.keras.applications.resnet import preprocess_input\n",
        "from tensorflow.keras.layers import Dropout\n",
        "from tensorflow.keras.layers import Flatten\n",
        "from tensorflow.keras.layers import Dense\n",
        "from tensorflow.keras.layers import Input\n",
        "from tensorflow.keras.models import Model\n",
        "from keras import models\n",
        "from keras import layers\n",
        "from keras import optimizers\n",
        "from keras import callbacks\n",
        "from keras.layers import Dense, Activation, Dropout, Bidirectional\n",
        "from keras.layers.recurrent import LSTM\n",
        "from keras.models import Sequential\n",
        "from tensorflow.keras.optimizers import SGD\n",
        "from sklearn.preprocessing import LabelBinarizer\n",
        "from sklearn.model_selection import train_test_split\n",
        "from sklearn.metrics import classification_report\n",
        "from imutils import paths\n",
        "import keras\n",
        "import matplotlib.pyplot as plt\n",
        "import numpy as np\n",
        "import argparse\n",
        "import pickle\n",
        "import cv2\n",
        "import os\n",
        "import shutil\n",
        "from keras.callbacks import ModelCheckpoint\n",
        "from keras.optimizers import SGD\n",
        "import sys\n",
        "import ssl\n",
        "import urllib.request\n",
        "import certifi\n",
        "import patoolib\n",
        "from sklearn.metrics import classification_report\n",
        "from keras.utils import np_utils\n",
        "from keras.preprocessing.image import img_to_array\n",
        "URL_LINK = 'https://www.crcv.ucf.edu/data/UCF101/UCF101.rar'\n",
        "BATCH_SIZE = 64"
      ],
      "execution_count": null,
      "outputs": []
    },
    {
      "cell_type": "code",
      "metadata": {
        "id": "ghTT7I26tOdU"
      },
      "source": [
        "!ls \"/content/resnet50/processedData\""
      ],
      "execution_count": null,
      "outputs": []
    },
    {
      "cell_type": "code",
      "metadata": {
        "colab": {
          "base_uri": "https://localhost:8080/"
        },
        "id": "pdV3lEvwVDfx",
        "outputId": "6b9a91a4-8847-4bb5-e5b8-4b5cc14ae9cd"
      },
      "source": [
        "from google.colab import drive\n",
        "drive.mount(\"/content/drive\")"
      ],
      "execution_count": null,
      "outputs": [
        {
          "output_type": "stream",
          "text": [
            "Drive already mounted at /content/drive; to attempt to forcibly remount, call drive.mount(\"/content/drive\", force_remount=True).\n"
          ],
          "name": "stdout"
        }
      ]
    },
    {
      "cell_type": "code",
      "metadata": {
        "colab": {
          "base_uri": "https://localhost:8080/"
        },
        "id": "CcUcQENzWwIr",
        "outputId": "a9ea17c2-836e-41ea-a3ea-d338714a8802"
      },
      "source": [
        "currentPath = os.getcwd()\n",
        "basePath = os.path.join(currentPath, \"resnet50\")\n",
        "featurePath = os.path.join(basePath, \"feature\")\n",
        "arcPath = os.path.join(basePath, \"lstm.json\")\n",
        "modelPath = os.path.join(basePath, \"model.h5\")\n",
        "configPath = os.path.join(basePath, \"config\")\n",
        "dataBasePath = os.path.join(basePath, \"data\")\n",
        "\n",
        "processedDataPath = os.path.join(basePath, \"processedData\")\n",
        "paths = []\n",
        "paths.append(basePath)\n",
        "paths.append(featurePath)\n",
        "paths.append(configPath)\n",
        "paths.append(dataBasePath)\n",
        "paths.append(processedDataPath)\n",
        "print(processedDataPath)\n",
        "for path in paths:\n",
        "    if not os.path.isdir(path):\n",
        "        os.mkdir(path)\n"
      ],
      "execution_count": null,
      "outputs": [
        {
          "output_type": "stream",
          "text": [
            "/content/resnet50/processedData\n"
          ],
          "name": "stdout"
        }
      ]
    },
    {
      "cell_type": "code",
      "metadata": {
        "id": "CyQeH8XfXfk5"
      },
      "source": [
        "def reporthook(block_num, block_size, total_size):\n",
        "    read_so_far = block_num * block_size\n",
        "    if total_size > 0:\n",
        "        percent = read_so_far * 1e2 / total_size\n",
        "        s = \"\\r%5.1f%% %*d / %d\" % (\n",
        "            percent, len(str(total_size)), read_so_far, total_size)\n",
        "        sys.stderr.write(s)\n",
        "        if read_so_far >= total_size:  # near the end\n",
        "            sys.stderr.write(\"\\n\")\n",
        "    else:  # total size is unknown\n",
        "        sys.stderr.write(\"read %d\\n\" % (read_so_far,))\n"
      ],
      "execution_count": null,
      "outputs": []
    },
    {
      "cell_type": "code",
      "metadata": {
        "colab": {
          "base_uri": "https://localhost:8080/"
        },
        "id": "wE4Ta1KoYOqF",
        "outputId": "6d7622d4-95ff-4ee8-dd3f-b31d95841fe4"
      },
      "source": [
        "ucf_rar = os.path.join(dataBasePath, \"UCF101.rar\")\n",
        "if not os.path.exists(ucf_rar):\n",
        "    print(\"ucf file does not exist, downloading\")\n",
        "    ssl._create_default_https_context = ssl._create_unverified_context\n",
        "    urllib.request.urlretrieve(url=URL_LINK, filename = ucf_rar, reporthook=reporthook)\n",
        "print(\"now we unzip ucf file\")\n",
        "patoolib.extract_archive(ucf_rar, outdir=dataBasePath)"
      ],
      "execution_count": null,
      "outputs": [
        {
          "output_type": "stream",
          "text": [
            "ucf file does not exist, downloading\n"
          ],
          "name": "stdout"
        },
        {
          "output_type": "stream",
          "text": [
            "100.0% 6932979712 / 6932971618\n"
          ],
          "name": "stderr"
        },
        {
          "output_type": "stream",
          "text": [
            "now we unzip ucf file\n",
            "patool: Extracting /content/resnet50/data/UCF101.rar ...\n",
            "patool: running /usr/bin/unrar x -- /content/resnet50/data/UCF101.rar\n",
            "patool:     with cwd='/content/resnet50/data'\n",
            "patool: ... /content/resnet50/data/UCF101.rar extracted to `/content/resnet50/data'.\n"
          ],
          "name": "stdout"
        },
        {
          "output_type": "execute_result",
          "data": {
            "application/vnd.google.colaboratory.intrinsic+json": {
              "type": "string"
            },
            "text/plain": [
              "'/content/resnet50/data'"
            ]
          },
          "metadata": {
            "tags": []
          },
          "execution_count": 7
        }
      ]
    },
    {
      "cell_type": "code",
      "metadata": {
        "id": "L_-mCO22XRSX"
      },
      "source": [
        "def extractFeatures(model, video, outputPath):\n",
        "    if os.path.exists(outputPath):\n",
        "        return np.load(outputPath)\n",
        "    count = 0\n",
        "    vidcap = cv2.VideoCapture(video)\n",
        "    success, image = vidcap.read()\n",
        "    features = []\n",
        "    while success:\n",
        "        success, image = vidcap.read()\n",
        "        if success:\n",
        "            img = cv2.resize(image, (224, 224), interpolation=cv2.INTER_AREA)\n",
        "            input = img_to_array(img)\n",
        "            input = np.expand_dims(input, axis = 0)\n",
        "            input = preprocess_input(input)\n",
        "            feature = model.predict(input).ravel()\n",
        "            features.append(feature)\n",
        "            count += 1\n",
        "    unscaled_features = np.array(features)\n",
        "    np.save(outputPath, unscaled_features)\n",
        "    return "
      ],
      "execution_count": null,
      "outputs": []
    },
    {
      "cell_type": "code",
      "metadata": {
        "id": "4bNMai58lKNl"
      },
      "source": [
        "import keras.backend as K\n",
        "import gc\n",
        "def scanExtractFeatrues(dataPath, outputPath):\n",
        "    x_samples = []\n",
        "    y_samples = []\n",
        "    dirCount = 0\n",
        "    model = None\n",
        "    for f in os.listdir(dataPath):\n",
        "        folderPath = os.path.join(dataPath, f)\n",
        "        if not os.path.exists(featurePath):\n",
        "            outputPath = os.path.join(featurePath, f)\n",
        "            os.mkdir(outputPath)\n",
        "        dirCount += 1\n",
        "        print(\"now working on \", f, \" and start cleaning keras\")\n",
        "        if model is not None:\n",
        "            del model\n",
        "            K.clear_session()\n",
        "            g = gc.collect()            \n",
        "            print(\"Done Cleaning GPU\")\n",
        "        model = VGG16(include_top = False, weights = \"imagenet\")\n",
        "        model.compile(optimizer=SGD(), loss='categorical_crossentropy', metrics=['accuracy'])            \n",
        "        try:\n",
        "            for video in os.listdir(folderPath):                \n",
        "                videoPath = os.path.join(folderPath, video)\n",
        "                outputFile = outputPath + os.path.sep + video.split(\".\")[0] + \".npy\"\n",
        "                extractFeatures(model, videoPath, outputFile)\n",
        "        except:\n",
        "            print(\"something is wrong with \", f, \" skipping it\")\n",
        "    return "
      ],
      "execution_count": null,
      "outputs": []
    },
    {
      "cell_type": "code",
      "metadata": {
        "id": "DXt_ZK-drqPg"
      },
      "source": [
        "def generate_batch(x_samples, y_samples):\n",
        "    num_batches = len(x_samples) // BATCH_SIZE\n",
        "    while True:\n",
        "        for batchIdx in range(0, num_batches):\n",
        "            start = batchIdx * BATCH_SIZE\n",
        "            end = (batchIdx + 1) * BATCH_SIZE\n",
        "            yield np.array(x_samples[start:end]), y_samples[start:end]"
      ],
      "execution_count": null,
      "outputs": []
    },
    {
      "cell_type": "code",
      "metadata": {
        "id": "rTXwjKhQAYDH"
      },
      "source": [
        "# # this is the dynamic learning rate function\n",
        "# def learningRate(epoch):\n",
        "#     if epoch < 10:\n",
        "#         return 0.001\n",
        "#     else:\n",
        "#         return 0.001 * np.exp(0.1 * (10 - epoch))\n",
        "# this is the dynamic learning rate function\n",
        "def learningRate(epoch):\n",
        "  if epoch < 10:\n",
        "    return 0.001\n",
        "  else:\n",
        "    return 0.001 * np.exp(0.1 * (10 - epoch))"
      ],
      "execution_count": null,
      "outputs": []
    },
    {
      "cell_type": "code",
      "metadata": {
        "id": "M8WAdYBBAY_P"
      },
      "source": [
        "class CustomizeGenerator(keras.utils.Sequence):\n",
        "    def __init__(self, filenames, labels, batchSize, filePath):\n",
        "        self.filenames = filenames\n",
        "        self.labels = labels\n",
        "        self.batchSize = batchSize\n",
        "        self.filePath = filePath\n",
        "    def __len__(self):\n",
        "        return (np.ceil(len(self.filenames) / float(self.batchSize))).astype(np.int)\n",
        "    def __getitem__(self, idx):\n",
        "        batch_x = self.filenames[idx * self.batchSize : (idx + 1) * self.batchSize]\n",
        "        batch_y = self.labels[idx * self.batchSize : (idx + 1) * self.batchSize]\n",
        "        return np.array([np.load(os.path.join(self.filePath, name)) for name in batch_x]), np.array(batch_y)"
      ],
      "execution_count": null,
      "outputs": []
    },
    {
      "cell_type": "code",
      "metadata": {
        "id": "rHZlSVdzSb4h"
      },
      "source": [
        "# first we build out Resnet 50 model without top layer\n",
        "\n",
        "class resnet50BLSTMModel(object):\n",
        "    def __init__(self):\n",
        "        self.num_input_tokens = None\n",
        "        self.nb_classes = None\n",
        "        self.labels = None\n",
        "        self.labels_idx2word = None\n",
        "        self.model = None\n",
        "        self.expected_frames = None\n",
        "        self.config = None\n",
        "    \n",
        "    def biLSTM(self):\n",
        "        model = Sequential()\n",
        "        model.add(Bidirectional(LSTM(512, input_shape=(None, self.num_input_tokens), \n",
        "                                     return_sequences=True\n",
        "                                     )))\n",
        "        model.add(Bidirectional(LSTM(10)))\n",
        "        model.add(Dense(512, activation=\"relu\"))\n",
        "        model.add(Dropout(0.5))\n",
        "        model.add(Dense(self.nb_classes))\n",
        "        model.add(Activation(\"softmax\"))\n",
        "        model.compile(loss=\"categorical_crossentropy\", optimizer = \"rmsprop\", metrics=['accuracy'])\n",
        "        return model\n",
        "\n",
        "    def processData(self, inputPath, outputPath):\n",
        "        max_frames = 0\n",
        "        counter = 0\n",
        "\n",
        "        print(\"now we process the data\")\n",
        "        frame_list = []\n",
        "        for f in os.listdir(featurePath):\n",
        "            samplePath = os.path.join(featurePath, f)\n",
        "            sample = np.load(samplePath)\n",
        "            if self.num_input_tokens == None:\n",
        "                self.num_input_tokens = sample.shape[1]\n",
        "            frames = sample.shape[0]\n",
        "            frame_list.append(frames)\n",
        "            max_frames = max(frames, max_frames)\n",
        "            self.expected_frames = int(np.mean(frame_list))\n",
        "        print(\"len of frame_list: \", len(frame_list))\n",
        "        print(\"max frames: \", max_frames)\n",
        "        print(\"expected frames: \", self.expected_frames)\n",
        "        for f in os.listdir(featurePath):            \n",
        "            samplePath = os.path.join(featurePath, f)\n",
        "            sample = np.load(samplePath)\n",
        "            frames = sample.shape[0]\n",
        "            if frames > self.expected_frames:\n",
        "                sample = sample[0:self.expected_frames, :]\n",
        "            elif frames < self.expected_frames:\n",
        "                temp = np.zeros(shape=(self.expected_frames, sample.shape[1]))\n",
        "                temp[0: frames, :] = sample\n",
        "                sample = temp\n",
        "            outputFilePath = os.path.join(outputPath, f)\n",
        "            counter += 1\n",
        "            os.remove(samplePath)\n",
        "            np.save(outputFilePath, sample)\n",
        "        print(\"done processing data, with a total of \", counter , \" files\")\n",
        "        return\n",
        "    def printLabel(self):\n",
        "      print(self.labels)\n",
        "      return\n",
        "    \n",
        "    def fit(self, inputPath, modelPath, testSize = 0.25, randomState = 52):\n",
        "        x_samples = []\n",
        "        y_samples = []\n",
        "        self.labels = dict()\n",
        "        for file in os.listdir(inputPath):\n",
        "            x_samples.append(file)\n",
        "            y_samples.append(file.split(\".\")[0].split(\"_\")[1])\n",
        "        for y in y_samples:\n",
        "            if y not in self.labels:\n",
        "                self.labels[y] = len(self.labels)\n",
        "        for i in range(len(y_samples)):\n",
        "            y_samples[i] = self.labels[y_samples[i]]\n",
        "        self.nb_classes = len(self.labels)\n",
        "        y_samples = np_utils.to_categorical(y_samples, self.nb_classes)\n",
        "        config = dict()\n",
        "        print(\"labels\")\n",
        "        print(self.labels)\n",
        "        config[\"labels\"] = self.labels\n",
        "        config[\"nb_classes\"] = self.nb_classes\n",
        "        config[\"num_input_tokens\"] = self.num_input_tokens\n",
        "        config[\"expected_frames\"] = self.expected_frames\n",
        "        print(config)\n",
        "\n",
        "        self.config = config\n",
        "        np.save(\"/content/config.npy\", config)\n",
        "        try:\n",
        "          np.save(\"/content/drive/MyDrive/Colab Notebooks/UCF101/config.npy\", config)\n",
        "        except:\n",
        "          print(\"ERR: cannot save config\")\n",
        "        BiLSTM = self.biLSTM()\n",
        "        open(arcPath, \"w\").write(BiLSTM.to_json())\n",
        "        xTrain, xTest, yTrain, yTest = train_test_split(x_samples, y_samples, test_size = 0.2, random_state = 52)\n",
        "        batchSize = 32\n",
        "        xTrain, xVal, yTrain, yVal = train_test_split(xTrain, yTrain, test_size = 0.2, random_state = 42)\n",
        "        trainingGenerator = CustomizeGenerator(xTrain, yTrain, batchSize, inputPath)\n",
        "        valGenerator = CustomizeGenerator(xVal, yVal, batchSize, inputPath)\n",
        "        testGenerator = CustomizeGenerator(xTest, yTest, batchSize, inputPath)        \n",
        "\n",
        "        checkpoint = ModelCheckpoint(filepath=modelPath, save_best_only = True)\n",
        "        history = BiLSTM.fit(x=trainingGenerator, epochs=100, \n",
        "                            steps_per_epoch = int(len(xTrain) // batchSize),\n",
        "                            verbose = 1,\n",
        "                            validation_data = valGenerator,\n",
        "                            validation_steps = int(len(xVal) // batchSize),\n",
        "                            callbacks=[callbacks.EarlyStopping(monitor='val_loss', patience = 5), callbacks.LearningRateScheduler(learningRate)],\n",
        "                            )\n",
        "        \n",
        "        BiLSTM.save(modelPath)\n",
        "        try:\n",
        "          BiLSTM.save(\"/content/drive/MyDrive/Colab Notebooks/UCF101/blstmModel_resnet50.h5\")\n",
        "        except:\n",
        "          print(\"erre saving model\")\n",
        "        print(\"Evaluating network\")\n",
        "        results = BiLSTM.evaluate_generator(testGenerator)\n",
        "        print(\"test loss, test acc: \", results)\n",
        "        return BiLSTM, history \n",
        "        \n",
        "\n",
        "\n"
      ],
      "execution_count": null,
      "outputs": []
    },
    {
      "cell_type": "code",
      "metadata": {
        "colab": {
          "base_uri": "https://localhost:8080/",
          "height": 1000
        },
        "id": "oK2aZ6eJlTbc",
        "outputId": "4c0cd650-9c15-40c0-9b88-0003d1d803b6"
      },
      "source": [
        "classifier = resnet50BLSTMModel()\n",
        "dataPath = os.path.join(dataBasePath, \"UCF-101\")\n",
        "scanExtractFeatrues(dataPath, featurePath)\n",
        "print(\"done extracting, and now we process the data\")\n",
        "if os.path.isdir(dataBasePath):\n",
        "  shutil. rmtree(dataBasePath) # delete the original content to free space from disk\n",
        "classifier.processData(featurePath, processedDataPath)\n",
        "print(\"done processing. now we train\")\n",
        "model, history = classifier.fit(processedDataPath, modelPath, testSize=0.25, randomState=52)\n",
        "\n",
        "\n",
        "plt.plot(history.history['accuracy'])\n",
        "plt.plot(history.history['val_accuracy'])\n",
        "plt.title('model accuracy')\n",
        "plt.ylabel('accuracy')\n",
        "plt.xlabel('epoch')\n",
        "plt.legend(['train', 'test'], loc='upper left')\n",
        "plt.show()\n",
        "# summarize history for loss\n",
        "plt.plot(history.history['loss'])\n",
        "plt.plot(history.history['val_loss'])\n",
        "plt.title('model loss')\n",
        "plt.ylabel('loss')\n",
        "plt.xlabel('epoch')\n",
        "plt.legend(['train', 'test'], loc='upper left')\n",
        "plt.show()"
      ],
      "execution_count": null,
      "outputs": [
        {
          "output_type": "stream",
          "text": [
            "now working on  MoppingFloor  and start cleaning keras\n",
            "Downloading data from https://storage.googleapis.com/tensorflow/keras-applications/vgg16/vgg16_weights_tf_dim_ordering_tf_kernels_notop.h5\n",
            "58892288/58889256 [==============================] - 0s 0us/step\n",
            "now working on  BrushingTeeth  and start cleaning keras\n",
            "Done Cleaning GPU\n",
            "now working on  PoleVault  and start cleaning keras\n",
            "Done Cleaning GPU\n",
            "now working on  StillRings  and start cleaning keras\n",
            "Done Cleaning GPU\n",
            "now working on  YoYo  and start cleaning keras\n",
            "Done Cleaning GPU\n",
            "now working on  SkateBoarding  and start cleaning keras\n",
            "Done Cleaning GPU\n",
            "now working on  PlayingCello  and start cleaning keras\n",
            "Done Cleaning GPU\n",
            "now working on  PullUps  and start cleaning keras\n",
            "Done Cleaning GPU\n",
            "now working on  BlowDryHair  and start cleaning keras\n",
            "Done Cleaning GPU\n",
            "now working on  Knitting  and start cleaning keras\n",
            "Done Cleaning GPU\n",
            "now working on  Shotput  and start cleaning keras\n",
            "Done Cleaning GPU\n",
            "now working on  Punch  and start cleaning keras\n",
            "Done Cleaning GPU\n",
            "now working on  HighJump  and start cleaning keras\n",
            "Done Cleaning GPU\n",
            "now working on  PlayingSitar  and start cleaning keras\n",
            "Done Cleaning GPU\n",
            "now working on  BlowingCandles  and start cleaning keras\n",
            "Done Cleaning GPU\n",
            "now working on  BalanceBeam  and start cleaning keras\n",
            "Done Cleaning GPU\n",
            "now working on  VolleyballSpiking  and start cleaning keras\n",
            "Done Cleaning GPU\n",
            "now working on  FieldHockeyPenalty  and start cleaning keras\n",
            "Done Cleaning GPU\n",
            "now working on  ShavingBeard  and start cleaning keras\n",
            "Done Cleaning GPU\n",
            "now working on  PlayingDhol  and start cleaning keras\n",
            "Done Cleaning GPU\n",
            "now working on  PizzaTossing  and start cleaning keras\n",
            "Done Cleaning GPU\n",
            "now working on  HeadMassage  and start cleaning keras\n",
            "Done Cleaning GPU\n",
            "now working on  FloorGymnastics  and start cleaning keras\n",
            "Done Cleaning GPU\n",
            "now working on  JumpRope  and start cleaning keras\n",
            "Done Cleaning GPU\n",
            "now working on  SalsaSpin  and start cleaning keras\n",
            "Done Cleaning GPU\n",
            "now working on  Haircut  and start cleaning keras\n",
            "Done Cleaning GPU\n",
            "now working on  Biking  and start cleaning keras\n",
            "Done Cleaning GPU\n",
            "now working on  WallPushups  and start cleaning keras\n",
            "Done Cleaning GPU\n",
            "now working on  PlayingDaf  and start cleaning keras\n",
            "Done Cleaning GPU\n",
            "now working on  Fencing  and start cleaning keras\n",
            "Done Cleaning GPU\n",
            "now working on  UnevenBars  and start cleaning keras\n",
            "Done Cleaning GPU\n",
            "now working on  RopeClimbing  and start cleaning keras\n",
            "Done Cleaning GPU\n",
            "now working on  Billiards  and start cleaning keras\n",
            "Done Cleaning GPU\n",
            "now working on  SkyDiving  and start cleaning keras\n",
            "Done Cleaning GPU\n",
            "now working on  TaiChi  and start cleaning keras\n",
            "Done Cleaning GPU\n",
            "now working on  Hammering  and start cleaning keras\n",
            "Done Cleaning GPU\n",
            "now working on  Diving  and start cleaning keras\n",
            "Done Cleaning GPU\n",
            "now working on  BabyCrawling  and start cleaning keras\n",
            "Done Cleaning GPU\n",
            "now working on  Mixing  and start cleaning keras\n",
            "Done Cleaning GPU\n",
            "now working on  BreastStroke  and start cleaning keras\n",
            "Done Cleaning GPU\n",
            "now working on  JavelinThrow  and start cleaning keras\n",
            "Done Cleaning GPU\n",
            "now working on  RockClimbingIndoor  and start cleaning keras\n",
            "Done Cleaning GPU\n",
            "something is wrong with  RockClimbingIndoor  skipping it\n",
            "now working on  BasketballDunk  and start cleaning keras\n",
            "Done Cleaning GPU\n",
            "something is wrong with  BasketballDunk  skipping it\n",
            "now working on  MilitaryParade  and start cleaning keras\n",
            "Done Cleaning GPU\n",
            "something is wrong with  MilitaryParade  skipping it\n",
            "now working on  FrisbeeCatch  and start cleaning keras\n",
            "Done Cleaning GPU\n",
            "something is wrong with  FrisbeeCatch  skipping it\n",
            "now working on  GolfSwing  and start cleaning keras\n",
            "Done Cleaning GPU\n",
            "something is wrong with  GolfSwing  skipping it\n",
            "now working on  HammerThrow  and start cleaning keras\n",
            "Done Cleaning GPU\n",
            "something is wrong with  HammerThrow  skipping it\n",
            "now working on  BodyWeightSquats  and start cleaning keras\n",
            "Done Cleaning GPU\n",
            "something is wrong with  BodyWeightSquats  skipping it\n",
            "now working on  Basketball  and start cleaning keras\n",
            "Done Cleaning GPU\n",
            "something is wrong with  Basketball  skipping it\n",
            "now working on  Bowling  and start cleaning keras\n",
            "Done Cleaning GPU\n",
            "something is wrong with  Bowling  skipping it\n",
            "now working on  SoccerPenalty  and start cleaning keras\n",
            "Done Cleaning GPU\n",
            "something is wrong with  SoccerPenalty  skipping it\n",
            "now working on  PlayingGuitar  and start cleaning keras\n",
            "Done Cleaning GPU\n",
            "something is wrong with  PlayingGuitar  skipping it\n",
            "now working on  Surfing  and start cleaning keras\n",
            "Done Cleaning GPU\n",
            "something is wrong with  Surfing  skipping it\n",
            "now working on  Kayaking  and start cleaning keras\n",
            "Done Cleaning GPU\n",
            "something is wrong with  Kayaking  skipping it\n",
            "now working on  CricketShot  and start cleaning keras\n",
            "Done Cleaning GPU\n",
            "something is wrong with  CricketShot  skipping it\n",
            "now working on  Swing  and start cleaning keras\n",
            "Done Cleaning GPU\n",
            "something is wrong with  Swing  skipping it\n",
            "now working on  ApplyLipstick  and start cleaning keras\n",
            "Done Cleaning GPU\n",
            "something is wrong with  ApplyLipstick  skipping it\n",
            "now working on  HandstandPushups  and start cleaning keras\n",
            "Done Cleaning GPU\n",
            "something is wrong with  HandstandPushups  skipping it\n",
            "now working on  PlayingViolin  and start cleaning keras\n",
            "Done Cleaning GPU\n",
            "something is wrong with  PlayingViolin  skipping it\n",
            "now working on  HorseRace  and start cleaning keras\n",
            "Done Cleaning GPU\n",
            "something is wrong with  HorseRace  skipping it\n",
            "now working on  BoxingSpeedBag  and start cleaning keras\n",
            "Done Cleaning GPU\n",
            "something is wrong with  BoxingSpeedBag  skipping it\n",
            "now working on  JumpingJack  and start cleaning keras\n",
            "Done Cleaning GPU\n",
            "something is wrong with  JumpingJack  skipping it\n",
            "now working on  SoccerJuggling  and start cleaning keras\n",
            "Done Cleaning GPU\n",
            "something is wrong with  SoccerJuggling  skipping it\n",
            "now working on  PlayingPiano  and start cleaning keras\n",
            "Done Cleaning GPU\n",
            "something is wrong with  PlayingPiano  skipping it\n",
            "now working on  TennisSwing  and start cleaning keras\n",
            "Done Cleaning GPU\n",
            "something is wrong with  TennisSwing  skipping it\n",
            "now working on  Skijet  and start cleaning keras\n",
            "Done Cleaning GPU\n",
            "something is wrong with  Skijet  skipping it\n",
            "now working on  IceDancing  and start cleaning keras\n",
            "Done Cleaning GPU\n",
            "something is wrong with  IceDancing  skipping it\n",
            "now working on  JugglingBalls  and start cleaning keras\n",
            "Done Cleaning GPU\n",
            "something is wrong with  JugglingBalls  skipping it\n",
            "now working on  PlayingTabla  and start cleaning keras\n",
            "Done Cleaning GPU\n",
            "something is wrong with  PlayingTabla  skipping it\n",
            "now working on  Nunchucks  and start cleaning keras\n",
            "Done Cleaning GPU\n",
            "something is wrong with  Nunchucks  skipping it\n",
            "now working on  TableTennisShot  and start cleaning keras\n",
            "Done Cleaning GPU\n",
            "something is wrong with  TableTennisShot  skipping it\n",
            "now working on  LongJump  and start cleaning keras\n",
            "Done Cleaning GPU\n",
            "something is wrong with  LongJump  skipping it\n",
            "now working on  CuttingInKitchen  and start cleaning keras\n",
            "Done Cleaning GPU\n",
            "something is wrong with  CuttingInKitchen  skipping it\n",
            "now working on  Rowing  and start cleaning keras\n",
            "Done Cleaning GPU\n",
            "something is wrong with  Rowing  skipping it\n",
            "now working on  Typing  and start cleaning keras\n",
            "Done Cleaning GPU\n",
            "something is wrong with  Typing  skipping it\n",
            "now working on  FrontCrawl  and start cleaning keras\n",
            "Done Cleaning GPU\n",
            "something is wrong with  FrontCrawl  skipping it\n",
            "now working on  CricketBowling  and start cleaning keras\n",
            "Done Cleaning GPU\n",
            "something is wrong with  CricketBowling  skipping it\n",
            "now working on  HandstandWalking  and start cleaning keras\n",
            "Done Cleaning GPU\n",
            "something is wrong with  HandstandWalking  skipping it\n",
            "now working on  BandMarching  and start cleaning keras\n",
            "Done Cleaning GPU\n",
            "something is wrong with  BandMarching  skipping it\n",
            "now working on  Rafting  and start cleaning keras\n",
            "Done Cleaning GPU\n",
            "something is wrong with  Rafting  skipping it\n",
            "now working on  PlayingFlute  and start cleaning keras\n",
            "Done Cleaning GPU\n",
            "something is wrong with  PlayingFlute  skipping it\n",
            "now working on  Lunges  and start cleaning keras\n",
            "Done Cleaning GPU\n",
            "something is wrong with  Lunges  skipping it\n",
            "now working on  HorseRiding  and start cleaning keras\n",
            "Done Cleaning GPU\n",
            "something is wrong with  HorseRiding  skipping it\n",
            "now working on  SumoWrestling  and start cleaning keras\n",
            "Done Cleaning GPU\n",
            "something is wrong with  SumoWrestling  skipping it\n",
            "now working on  BenchPress  and start cleaning keras\n",
            "Done Cleaning GPU\n",
            "something is wrong with  BenchPress  skipping it\n",
            "now working on  ThrowDiscus  and start cleaning keras\n",
            "Done Cleaning GPU\n",
            "something is wrong with  ThrowDiscus  skipping it\n",
            "now working on  WritingOnBoard  and start cleaning keras\n",
            "Done Cleaning GPU\n",
            "something is wrong with  WritingOnBoard  skipping it\n",
            "now working on  ApplyEyeMakeup  and start cleaning keras\n",
            "Done Cleaning GPU\n",
            "something is wrong with  ApplyEyeMakeup  skipping it\n",
            "now working on  ParallelBars  and start cleaning keras\n",
            "Done Cleaning GPU\n",
            "something is wrong with  ParallelBars  skipping it\n",
            "now working on  PommelHorse  and start cleaning keras\n",
            "Done Cleaning GPU\n",
            "something is wrong with  PommelHorse  skipping it\n",
            "now working on  Skiing  and start cleaning keras\n",
            "Done Cleaning GPU\n",
            "something is wrong with  Skiing  skipping it\n",
            "now working on  CliffDiving  and start cleaning keras\n",
            "Done Cleaning GPU\n",
            "something is wrong with  CliffDiving  skipping it\n",
            "now working on  HulaHoop  and start cleaning keras\n",
            "Done Cleaning GPU\n",
            "something is wrong with  HulaHoop  skipping it\n",
            "now working on  Archery  and start cleaning keras\n",
            "Done Cleaning GPU\n",
            "something is wrong with  Archery  skipping it\n",
            "now working on  Drumming  and start cleaning keras\n",
            "Done Cleaning GPU\n",
            "something is wrong with  Drumming  skipping it\n",
            "now working on  BoxingPunchingBag  and start cleaning keras\n",
            "Done Cleaning GPU\n",
            "something is wrong with  BoxingPunchingBag  skipping it\n",
            "now working on  TrampolineJumping  and start cleaning keras\n",
            "Done Cleaning GPU\n",
            "something is wrong with  TrampolineJumping  skipping it\n",
            "now working on  WalkingWithDog  and start cleaning keras\n",
            "Done Cleaning GPU\n",
            "something is wrong with  WalkingWithDog  skipping it\n",
            "now working on  BaseballPitch  and start cleaning keras\n",
            "Done Cleaning GPU\n",
            "something is wrong with  BaseballPitch  skipping it\n",
            "now working on  PushUps  and start cleaning keras\n",
            "Done Cleaning GPU\n",
            "something is wrong with  PushUps  skipping it\n",
            "now working on  CleanAndJerk  and start cleaning keras\n",
            "Done Cleaning GPU\n",
            "something is wrong with  CleanAndJerk  skipping it\n",
            "done extracting, and now we process the data\n",
            "now we process the data\n"
          ],
          "name": "stdout"
        },
        {
          "output_type": "error",
          "ename": "ValueError",
          "evalue": "ignored",
          "traceback": [
            "\u001b[0;31m---------------------------------------------------------------------------\u001b[0m",
            "\u001b[0;31mValueError\u001b[0m                                Traceback (most recent call last)",
            "\u001b[0;32m<ipython-input-24-19fcd9f5b9b9>\u001b[0m in \u001b[0;36m<module>\u001b[0;34m()\u001b[0m\n\u001b[1;32m      5\u001b[0m \u001b[0;32mif\u001b[0m \u001b[0mos\u001b[0m\u001b[0;34m.\u001b[0m\u001b[0mpath\u001b[0m\u001b[0;34m.\u001b[0m\u001b[0misdir\u001b[0m\u001b[0;34m(\u001b[0m\u001b[0mdataBasePath\u001b[0m\u001b[0;34m)\u001b[0m\u001b[0;34m:\u001b[0m\u001b[0;34m\u001b[0m\u001b[0;34m\u001b[0m\u001b[0m\n\u001b[1;32m      6\u001b[0m   \u001b[0mshutil\u001b[0m\u001b[0;34m.\u001b[0m \u001b[0mrmtree\u001b[0m\u001b[0;34m(\u001b[0m\u001b[0mdataBasePath\u001b[0m\u001b[0;34m)\u001b[0m \u001b[0;31m# delete the original content to free space from disk\u001b[0m\u001b[0;34m\u001b[0m\u001b[0;34m\u001b[0m\u001b[0m\n\u001b[0;32m----> 7\u001b[0;31m \u001b[0mclassifier\u001b[0m\u001b[0;34m.\u001b[0m\u001b[0mprocessData\u001b[0m\u001b[0;34m(\u001b[0m\u001b[0mfeaturePath\u001b[0m\u001b[0;34m,\u001b[0m \u001b[0mprocessedDataPath\u001b[0m\u001b[0;34m)\u001b[0m\u001b[0;34m\u001b[0m\u001b[0;34m\u001b[0m\u001b[0m\n\u001b[0m\u001b[1;32m      8\u001b[0m \u001b[0mprint\u001b[0m\u001b[0;34m(\u001b[0m\u001b[0;34m\"done processing. now we train\"\u001b[0m\u001b[0;34m)\u001b[0m\u001b[0;34m\u001b[0m\u001b[0;34m\u001b[0m\u001b[0m\n\u001b[1;32m      9\u001b[0m \u001b[0mmodel\u001b[0m\u001b[0;34m,\u001b[0m \u001b[0mhistory\u001b[0m \u001b[0;34m=\u001b[0m \u001b[0mclassifier\u001b[0m\u001b[0;34m.\u001b[0m\u001b[0mfit\u001b[0m\u001b[0;34m(\u001b[0m\u001b[0mprocessedDataPath\u001b[0m\u001b[0;34m,\u001b[0m \u001b[0mmodelPath\u001b[0m\u001b[0;34m,\u001b[0m \u001b[0mtestSize\u001b[0m\u001b[0;34m=\u001b[0m\u001b[0;36m0.25\u001b[0m\u001b[0;34m,\u001b[0m \u001b[0mrandomState\u001b[0m\u001b[0;34m=\u001b[0m\u001b[0;36m52\u001b[0m\u001b[0;34m)\u001b[0m\u001b[0;34m\u001b[0m\u001b[0;34m\u001b[0m\u001b[0m\n",
            "\u001b[0;32m<ipython-input-23-1f6131354091>\u001b[0m in \u001b[0;36mprocessData\u001b[0;34m(self, inputPath, outputPath)\u001b[0m\n\u001b[1;32m     32\u001b[0m         \u001b[0;32mfor\u001b[0m \u001b[0mf\u001b[0m \u001b[0;32min\u001b[0m \u001b[0mos\u001b[0m\u001b[0;34m.\u001b[0m\u001b[0mlistdir\u001b[0m\u001b[0;34m(\u001b[0m\u001b[0mfeaturePath\u001b[0m\u001b[0;34m)\u001b[0m\u001b[0;34m:\u001b[0m\u001b[0;34m\u001b[0m\u001b[0;34m\u001b[0m\u001b[0m\n\u001b[1;32m     33\u001b[0m             \u001b[0msamplePath\u001b[0m \u001b[0;34m=\u001b[0m \u001b[0mos\u001b[0m\u001b[0;34m.\u001b[0m\u001b[0mpath\u001b[0m\u001b[0;34m.\u001b[0m\u001b[0mjoin\u001b[0m\u001b[0;34m(\u001b[0m\u001b[0mfeaturePath\u001b[0m\u001b[0;34m,\u001b[0m \u001b[0mf\u001b[0m\u001b[0;34m)\u001b[0m\u001b[0;34m\u001b[0m\u001b[0;34m\u001b[0m\u001b[0m\n\u001b[0;32m---> 34\u001b[0;31m             \u001b[0msample\u001b[0m \u001b[0;34m=\u001b[0m \u001b[0mnp\u001b[0m\u001b[0;34m.\u001b[0m\u001b[0mload\u001b[0m\u001b[0;34m(\u001b[0m\u001b[0msamplePath\u001b[0m\u001b[0;34m)\u001b[0m\u001b[0;34m\u001b[0m\u001b[0;34m\u001b[0m\u001b[0m\n\u001b[0m\u001b[1;32m     35\u001b[0m             \u001b[0;32mif\u001b[0m \u001b[0mself\u001b[0m\u001b[0;34m.\u001b[0m\u001b[0mnum_input_tokens\u001b[0m \u001b[0;34m==\u001b[0m \u001b[0;32mNone\u001b[0m\u001b[0;34m:\u001b[0m\u001b[0;34m\u001b[0m\u001b[0;34m\u001b[0m\u001b[0m\n\u001b[1;32m     36\u001b[0m                 \u001b[0mself\u001b[0m\u001b[0;34m.\u001b[0m\u001b[0mnum_input_tokens\u001b[0m \u001b[0;34m=\u001b[0m \u001b[0msample\u001b[0m\u001b[0;34m.\u001b[0m\u001b[0mshape\u001b[0m\u001b[0;34m[\u001b[0m\u001b[0;36m1\u001b[0m\u001b[0;34m]\u001b[0m\u001b[0;34m\u001b[0m\u001b[0;34m\u001b[0m\u001b[0m\n",
            "\u001b[0;32m/usr/local/lib/python3.7/dist-packages/numpy/lib/npyio.py\u001b[0m in \u001b[0;36mload\u001b[0;34m(file, mmap_mode, allow_pickle, fix_imports, encoding)\u001b[0m\n\u001b[1;32m    442\u001b[0m             \u001b[0;31m# Try a pickle\u001b[0m\u001b[0;34m\u001b[0m\u001b[0;34m\u001b[0m\u001b[0;34m\u001b[0m\u001b[0m\n\u001b[1;32m    443\u001b[0m             \u001b[0;32mif\u001b[0m \u001b[0;32mnot\u001b[0m \u001b[0mallow_pickle\u001b[0m\u001b[0;34m:\u001b[0m\u001b[0;34m\u001b[0m\u001b[0;34m\u001b[0m\u001b[0m\n\u001b[0;32m--> 444\u001b[0;31m                 raise ValueError(\"Cannot load file containing pickled data \"\n\u001b[0m\u001b[1;32m    445\u001b[0m                                  \"when allow_pickle=False\")\n\u001b[1;32m    446\u001b[0m             \u001b[0;32mtry\u001b[0m\u001b[0;34m:\u001b[0m\u001b[0;34m\u001b[0m\u001b[0;34m\u001b[0m\u001b[0m\n",
            "\u001b[0;31mValueError\u001b[0m: Cannot load file containing pickled data when allow_pickle=False"
          ]
        }
      ]
    },
    {
      "cell_type": "code",
      "metadata": {
        "colab": {
          "base_uri": "https://localhost:8080/",
          "height": 17
        },
        "id": "D0AvYmbYiU_R",
        "outputId": "9a870f3e-5221-4476-e78d-7b7a2b9f63fd"
      },
      "source": [
        "from google.colab import files\n",
        "files.download(\"config.npy\")"
      ],
      "execution_count": null,
      "outputs": [
        {
          "output_type": "display_data",
          "data": {
            "application/javascript": [
              "\n",
              "    async function download(id, filename, size) {\n",
              "      if (!google.colab.kernel.accessAllowed) {\n",
              "        return;\n",
              "      }\n",
              "      const div = document.createElement('div');\n",
              "      const label = document.createElement('label');\n",
              "      label.textContent = `Downloading \"${filename}\": `;\n",
              "      div.appendChild(label);\n",
              "      const progress = document.createElement('progress');\n",
              "      progress.max = size;\n",
              "      div.appendChild(progress);\n",
              "      document.body.appendChild(div);\n",
              "\n",
              "      const buffers = [];\n",
              "      let downloaded = 0;\n",
              "\n",
              "      const channel = await google.colab.kernel.comms.open(id);\n",
              "      // Send a message to notify the kernel that we're ready.\n",
              "      channel.send({})\n",
              "\n",
              "      for await (const message of channel.messages) {\n",
              "        // Send a message to notify the kernel that we're ready.\n",
              "        channel.send({})\n",
              "        if (message.buffers) {\n",
              "          for (const buffer of message.buffers) {\n",
              "            buffers.push(buffer);\n",
              "            downloaded += buffer.byteLength;\n",
              "            progress.value = downloaded;\n",
              "          }\n",
              "        }\n",
              "      }\n",
              "      const blob = new Blob(buffers, {type: 'application/binary'});\n",
              "      const a = document.createElement('a');\n",
              "      a.href = window.URL.createObjectURL(blob);\n",
              "      a.download = filename;\n",
              "      div.appendChild(a);\n",
              "      a.click();\n",
              "      div.remove();\n",
              "    }\n",
              "  "
            ],
            "text/plain": [
              "<IPython.core.display.Javascript object>"
            ]
          },
          "metadata": {
            "tags": []
          }
        },
        {
          "output_type": "display_data",
          "data": {
            "application/javascript": [
              "download(\"download_b1dfc2ff-0566-4f95-8835-e5e449a0242b\", \"config.npy\", 2368)"
            ],
            "text/plain": [
              "<IPython.core.display.Javascript object>"
            ]
          },
          "metadata": {
            "tags": []
          }
        }
      ]
    },
    {
      "cell_type": "code",
      "metadata": {
        "id": "54xvwfRd6q1u",
        "colab": {
          "base_uri": "https://localhost:8080/",
          "height": 1000
        },
        "outputId": "b772a4df-02b1-4dbf-9efb-dc66e038cb63"
      },
      "source": [
        "classifier = resnet50BLSTMModel()\n",
        "dataPath = os.path.join(dataBasePath, \"UCF-101\")\n",
        "scanExtractFeatrues(dataPath, featurePath)\n",
        "print(\"done extracting, and now we process the data\")\n",
        "if os.path.isdir(dataBasePath):\n",
        "  shutil. rmtree(dataBasePath) # delete the original content to free space from disk\n",
        "classifier.processData(featurePath, processedDataPath)\n",
        "print(\"done processing. now we train\")\n",
        "model, history = classifier.fit(processedDataPath, modelPath, testSize=0.25, randomState=52)\n",
        "\n",
        "\n",
        "plt.plot(history.history['accuracy'])\n",
        "plt.plot(history.history['val_accuracy'])\n",
        "plt.title('model accuracy')\n",
        "plt.ylabel('accuracy')\n",
        "plt.xlabel('epoch')\n",
        "plt.legend(['train', 'test'], loc='upper left')\n",
        "plt.show()\n",
        "# summarize history for loss\n",
        "plt.plot(history.history['loss'])\n",
        "plt.plot(history.history['val_loss'])\n",
        "plt.title('model loss')\n",
        "plt.ylabel('loss')\n",
        "plt.xlabel('epoch')\n",
        "plt.legend(['train', 'test'], loc='upper left')\n",
        "plt.show()"
      ],
      "execution_count": null,
      "outputs": [
        {
          "output_type": "stream",
          "text": [
            "done extracting, and now we process the data\n",
            "done processing. now we train\n",
            "labels\n",
            "{'WallPushups': 0, 'MilitaryParade': 1, 'HorseRiding': 2, 'HorseRace': 3, 'SoccerJuggling': 4, 'BandMarching': 5, 'JumpingJack': 6, 'BlowDryHair': 7, 'PlayingCello': 8, 'Skiing': 9, 'VolleyballSpiking': 10, 'HeadMassage': 11, 'Typing': 12, 'CricketBowling': 13, 'Haircut': 14, 'SoccerPenalty': 15, 'Rowing': 16, 'Swing': 17, 'Basketball': 18, 'ThrowDiscus': 19, 'IceDancing': 20, 'FrisbeeCatch': 21, 'Skijet': 22, 'PullUps': 23, 'PlayingSitar': 24, 'SkyDiving': 25, 'Diving': 26, 'BasketballDunk': 27, 'CuttingInKitchen': 28, 'TennisSwing': 29, 'BoxingPunchingBag': 30, 'ShavingBeard': 31, 'GolfSwing': 32, 'RopeClimbing': 33, 'JumpRope': 34, 'BabyCrawling': 35, 'PlayingDhol': 36, 'TableTennisShot': 37, 'BlowingCandles': 38, 'Knitting': 39, 'ApplyEyeMakeup': 40, 'HulaHoop': 41, 'FrontCrawl': 42, 'Hammering': 43, 'Biking': 44, 'Archery': 45, 'SalsaSpin': 46, 'PushUps': 47, 'CliffDiving': 48, 'TrampolineJumping': 49, 'PlayingDaf': 50, 'FloorGymnastics': 51, 'Billiards': 52, 'ParallelBars': 53, 'SumoWrestling': 54, 'CleanAndJerk': 55, 'Nunchucks': 56, 'StillRings': 57, 'SkateBoarding': 58, 'Bowling': 59, 'PoleVault': 60, 'Punch': 61, 'UnevenBars': 62, 'PlayingPiano': 63, 'FieldHockeyPenalty': 64, 'BaseballPitch': 65, 'Rafting': 66, 'BalanceBeam': 67, 'PlayingTabla': 68, 'TaiChi': 69, 'ApplyLipstick': 70, 'LongJump': 71, 'Fencing': 72, 'BreastStroke': 73, 'BenchPress': 74, 'JavelinThrow': 75, 'YoYo': 76, 'CricketShot': 77, 'Shotput': 78, 'PlayingGuitar': 79, 'RockClimbingIndoor': 80, 'JugglingBalls': 81, 'PlayingFlute': 82, 'Lunges': 83, 'HandStandPushups': 84, 'WritingOnBoard': 85, 'HammerThrow': 86, 'Kayaking': 87, 'BoxingSpeedBag': 88, 'Surfing': 89, 'MoppingFloor': 90, 'Mixing': 91, 'WalkingWithDog': 92, 'Drumming': 93, 'PommelHorse': 94, 'PizzaTossing': 95, 'BrushingTeeth': 96, 'BodyWeightSquats': 97, 'HighJump': 98, 'PlayingViolin': 99, 'HandstandWalking': 100}\n",
            "Epoch 1/100\n",
            "266/266 [==============================] - 624s 2s/step - loss: 4.3933 - accuracy: 0.0318 - val_loss: 3.2961 - val_accuracy: 0.1430\n",
            "Epoch 2/100\n",
            "266/266 [==============================] - 617s 2s/step - loss: 3.1772 - accuracy: 0.1529 - val_loss: 2.5136 - val_accuracy: 0.2969\n",
            "Epoch 3/100\n",
            "266/266 [==============================] - 617s 2s/step - loss: 2.4619 - accuracy: 0.2980 - val_loss: 2.1589 - val_accuracy: 0.3987\n",
            "Epoch 4/100\n",
            "266/266 [==============================] - 617s 2s/step - loss: 1.9096 - accuracy: 0.4381 - val_loss: 1.6077 - val_accuracy: 0.5303\n",
            "Epoch 5/100\n",
            "266/266 [==============================] - 616s 2s/step - loss: 1.4890 - accuracy: 0.5488 - val_loss: 1.3561 - val_accuracy: 0.6023\n",
            "Epoch 6/100\n",
            "266/266 [==============================] - 617s 2s/step - loss: 1.2015 - accuracy: 0.6357 - val_loss: 1.1376 - val_accuracy: 0.6700\n",
            "Epoch 7/100\n",
            "266/266 [==============================] - 617s 2s/step - loss: 0.9639 - accuracy: 0.7080 - val_loss: 1.2534 - val_accuracy: 0.6624\n",
            "Epoch 8/100\n",
            "266/266 [==============================] - 616s 2s/step - loss: 0.8031 - accuracy: 0.7575 - val_loss: 1.0894 - val_accuracy: 0.7012\n",
            "Epoch 9/100\n",
            "266/266 [==============================] - 617s 2s/step - loss: 0.6443 - accuracy: 0.7991 - val_loss: 1.2452 - val_accuracy: 0.6648\n",
            "Epoch 10/100\n",
            "266/266 [==============================] - 617s 2s/step - loss: 0.5594 - accuracy: 0.8267 - val_loss: 0.9288 - val_accuracy: 0.7524\n",
            "Epoch 11/100\n",
            "266/266 [==============================] - 616s 2s/step - loss: 0.4907 - accuracy: 0.8409 - val_loss: 0.8425 - val_accuracy: 0.7888\n",
            "Epoch 12/100\n",
            "266/266 [==============================] - 617s 2s/step - loss: 0.3768 - accuracy: 0.8883 - val_loss: 0.8111 - val_accuracy: 0.8078\n",
            "Epoch 13/100\n",
            "266/266 [==============================] - 617s 2s/step - loss: 0.2891 - accuracy: 0.9086 - val_loss: 0.8093 - val_accuracy: 0.8068\n",
            "Epoch 14/100\n",
            "266/266 [==============================] - 617s 2s/step - loss: 0.2286 - accuracy: 0.9298 - val_loss: 0.8340 - val_accuracy: 0.8220\n",
            "Epoch 15/100\n",
            "266/266 [==============================] - 617s 2s/step - loss: 0.1573 - accuracy: 0.9517 - val_loss: 0.6675 - val_accuracy: 0.8509\n",
            "Epoch 16/100\n",
            "266/266 [==============================] - 616s 2s/step - loss: 0.1244 - accuracy: 0.9625 - val_loss: 0.6292 - val_accuracy: 0.8717\n",
            "Epoch 17/100\n",
            "266/266 [==============================] - 617s 2s/step - loss: 0.0846 - accuracy: 0.9742 - val_loss: 0.6854 - val_accuracy: 0.8679\n",
            "Epoch 18/100\n",
            "266/266 [==============================] - 617s 2s/step - loss: 0.0666 - accuracy: 0.9823 - val_loss: 0.6823 - val_accuracy: 0.8764\n",
            "Epoch 19/100\n",
            "266/266 [==============================] - 617s 2s/step - loss: 0.0398 - accuracy: 0.9866 - val_loss: 0.7373 - val_accuracy: 0.8646\n",
            "Epoch 20/100\n",
            "266/266 [==============================] - 616s 2s/step - loss: 0.0315 - accuracy: 0.9917 - val_loss: 0.6833 - val_accuracy: 0.8840\n",
            "Epoch 21/100\n",
            "266/266 [==============================] - 618s 2s/step - loss: 0.0233 - accuracy: 0.9932 - val_loss: 0.6953 - val_accuracy: 0.8793\n",
            "Evaluating network\n"
          ],
          "name": "stdout"
        },
        {
          "output_type": "stream",
          "text": [
            "/usr/local/lib/python3.7/dist-packages/tensorflow/python/keras/engine/training.py:1877: UserWarning: `Model.evaluate_generator` is deprecated and will be removed in a future version. Please use `Model.evaluate`, which supports generators.\n",
            "  warnings.warn('`Model.evaluate_generator` is deprecated and '\n"
          ],
          "name": "stderr"
        },
        {
          "output_type": "stream",
          "text": [
            "test loss, test acc:  [0.6190774440765381, 0.8858858942985535]\n"
          ],
          "name": "stdout"
        },
        {
          "output_type": "display_data",
          "data": {
            "image/png": "[encoded data removed]",
            "text/plain": [
              "<Figure size 432x288 with 1 Axes>"
            ]
          },
          "metadata": {
            "tags": [],
            "needs_background": "light"
          }
        },
        {
          "output_type": "display_data",
          "data": {
            "image/png": "[encoded data removed]",
            "text/plain": [
              "<Figure size 432x288 with 1 Axes>"
            ]
          },
          "metadata": {
            "tags": [],
            "needs_background": "light"
          }
        }
      ]
    },
    {
      "cell_type": "code",
      "metadata": {
        "colab": {
          "base_uri": "https://localhost:8080/"
        },
        "id": "N2yJIBn1vQty",
        "outputId": "4fbb4a58-fbdc-4471-bb1c-0d5139df5ab3"
      },
      "source": [
        "!ls \"/content/resnet50/\""
      ],
      "execution_count": null,
      "outputs": [
        {
          "output_type": "stream",
          "text": [
            "config\tconfig.npy  feature  lstm.json\tmodel.h5  processedData\n"
          ],
          "name": "stdout"
        }
      ]
    },
    {
      "cell_type": "code",
      "metadata": {
        "colab": {
          "base_uri": "https://localhost:8080/",
          "height": 34
        },
        "id": "KNSskKglFoyb",
        "outputId": "2da98c6c-9342-425e-f595-d17060e5e435"
      },
      "source": [
        "from google.colab import files\n",
        "files.download(\"/content/resnet50/model.h5\")"
      ],
      "execution_count": null,
      "outputs": [
        {
          "output_type": "display_data",
          "data": {
            "application/javascript": [
              "\n",
              "    async function download(id, filename, size) {\n",
              "      if (!google.colab.kernel.accessAllowed) {\n",
              "        return;\n",
              "      }\n",
              "      const div = document.createElement('div');\n",
              "      const label = document.createElement('label');\n",
              "      label.textContent = `Downloading \"${filename}\": `;\n",
              "      div.appendChild(label);\n",
              "      const progress = document.createElement('progress');\n",
              "      progress.max = size;\n",
              "      div.appendChild(progress);\n",
              "      document.body.appendChild(div);\n",
              "\n",
              "      const buffers = [];\n",
              "      let downloaded = 0;\n",
              "\n",
              "      const channel = await google.colab.kernel.comms.open(id);\n",
              "      // Send a message to notify the kernel that we're ready.\n",
              "      channel.send({})\n",
              "\n",
              "      for await (const message of channel.messages) {\n",
              "        // Send a message to notify the kernel that we're ready.\n",
              "        channel.send({})\n",
              "        if (message.buffers) {\n",
              "          for (const buffer of message.buffers) {\n",
              "            buffers.push(buffer);\n",
              "            downloaded += buffer.byteLength;\n",
              "            progress.value = downloaded;\n",
              "          }\n",
              "        }\n",
              "      }\n",
              "      const blob = new Blob(buffers, {type: 'application/binary'});\n",
              "      const a = document.createElement('a');\n",
              "      a.href = window.URL.createObjectURL(blob);\n",
              "      a.download = filename;\n",
              "      div.appendChild(a);\n",
              "      a.click();\n",
              "      div.remove();\n",
              "    }\n",
              "  "
            ],
            "text/plain": [
              "<IPython.core.display.Javascript object>"
            ]
          },
          "metadata": {
            "tags": []
          }
        },
        {
          "output_type": "display_data",
          "data": {
            "application/javascript": [
              "download(\"download_3e308212-c7a2-4a3b-9f21-61221038c0a1\", \"model.h5\", 1653183680)"
            ],
            "text/plain": [
              "<IPython.core.display.Javascript object>"
            ]
          },
          "metadata": {
            "tags": []
          }
        }
      ]
    },
    {
      "cell_type": "code",
      "metadata": {
        "id": "h7Eyppw2Fafr"
      },
      "source": [
        "!cp \"/content/resnet50/model.h5\" \"/content/drive/MyDrive/Colab Notebooks/UCF101/newBiLSTM.h5\""
      ],
      "execution_count": null,
      "outputs": []
    }
  ]
}